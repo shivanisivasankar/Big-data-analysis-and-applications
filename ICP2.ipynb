{
  "nbformat": 4,
  "nbformat_minor": 0,
  "metadata": {
    "colab": {
      "name": "ICP2.ipynb",
      "provenance": [],
      "collapsed_sections": [],
      "authorship_tag": "ABX9TyOs6Tr7WyGhHuW/mWj+hgIs",
      "include_colab_link": true
    },
    "kernelspec": {
      "name": "python3",
      "display_name": "Python 3"
    }
  },
  "cells": [
    {
      "cell_type": "markdown",
      "metadata": {
        "id": "view-in-github",
        "colab_type": "text"
      },
      "source": [
        "<a href=\"https://colab.research.google.com/github/shivanisivasankar/Big-data-analysis-and-applications/blob/master/ICP2.ipynb\" target=\"_parent\"><img src=\"https://colab.research.google.com/assets/colab-badge.svg\" alt=\"Open In Colab\"/></a>"
      ]
    },
    {
      "cell_type": "markdown",
      "metadata": {
        "id": "_Yd5r_wHApaw",
        "colab_type": "text"
      },
      "source": [
        "# **ICP 2**\n",
        "- Shivani Sivasankar"
      ]
    },
    {
      "cell_type": "code",
      "metadata": {
        "id": "bc2ZWFy4Y6MH",
        "colab_type": "code",
        "colab": {}
      },
      "source": [
        "!apt-get install openjdk-8-jdk-headless -qq > /dev/null\n",
        "!wget -q https://downloads.apache.org/spark/spark-3.0.0/spark-3.0.0-bin-hadoop3.2.tgz\n",
        "!tar xf spark-3.0.0-bin-hadoop3.2.tgz\n",
        "!pip install -q findspark"
      ],
      "execution_count": null,
      "outputs": []
    },
    {
      "cell_type": "code",
      "metadata": {
        "id": "0Y1UFF1GY89U",
        "colab_type": "code",
        "colab": {}
      },
      "source": [
        "import os\n",
        "os.environ[\"JAVA_HOME\"] = \"/usr/lib/jvm/java-8-openjdk-amd64\"\n",
        "os.environ[\"SPARK_HOME\"] = \"/content/spark-3.0.0-bin-hadoop3.2\""
      ],
      "execution_count": null,
      "outputs": []
    },
    {
      "cell_type": "code",
      "metadata": {
        "id": "CW9g0gQYZBe7",
        "colab_type": "code",
        "colab": {
          "base_uri": "https://localhost:8080/",
          "height": 51
        },
        "outputId": "f3e0f7f2-1666-4f7e-d4b7-168edc3b2d5b"
      },
      "source": [
        "!pip install pyspark"
      ],
      "execution_count": null,
      "outputs": [
        {
          "output_type": "stream",
          "text": [
            "Requirement already satisfied: pyspark in /usr/local/lib/python3.6/dist-packages (3.0.0)\n",
            "Requirement already satisfied: py4j==0.10.9 in /usr/local/lib/python3.6/dist-packages (from pyspark) (0.10.9)\n"
          ],
          "name": "stdout"
        }
      ]
    },
    {
      "cell_type": "code",
      "metadata": {
        "id": "2Tqq6MNRZKlw",
        "colab_type": "code",
        "colab": {}
      },
      "source": [
        "from pyspark.sql import SparkSession\n",
        "spark = SparkSession.builder.master(\"local[*]\").appName(\"Big_Data_Application\").getOrCreate()"
      ],
      "execution_count": null,
      "outputs": []
    },
    {
      "cell_type": "markdown",
      "metadata": {
        "id": "jsPeHbgvA9an",
        "colab_type": "text"
      },
      "source": [
        "**Imported** the given text file"
      ]
    },
    {
      "cell_type": "code",
      "metadata": {
        "id": "6GOsv4ZKZP3d",
        "colab_type": "code",
        "colab": {
          "resources": {
            "http://localhost:8080/nbextensions/google.colab/files.js": {
              "data": "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",
              "ok": true,
              "headers": [
                [
                  "content-type",
                  "application/javascript"
                ]
              ],
              "status": 200,
              "status_text": ""
            }
          },
          "base_uri": "https://localhost:8080/",
          "height": 109
        },
        "outputId": "b615375b-e0ab-4dee-fa8f-98ec5aa26469"
      },
      "source": [
        "from google.colab import files\n",
        "files.upload()"
      ],
      "execution_count": null,
      "outputs": [
        {
          "output_type": "display_data",
          "data": {
            "text/html": [
              "\n",
              "     <input type=\"file\" id=\"files-4ab92b37-9527-45a9-9e3a-f2ea23358703\" name=\"files[]\" multiple disabled\n",
              "        style=\"border:none\" />\n",
              "     <output id=\"result-4ab92b37-9527-45a9-9e3a-f2ea23358703\">\n",
              "      Upload widget is only available when the cell has been executed in the\n",
              "      current browser session. Please rerun this cell to enable.\n",
              "      </output>\n",
              "      <script src=\"/nbextensions/google.colab/files.js\"></script> "
            ],
            "text/plain": [
              "<IPython.core.display.HTML object>"
            ]
          },
          "metadata": {
            "tags": []
          }
        },
        {
          "output_type": "stream",
          "text": [
            "Saving icp2.txt to icp2 (1).txt\n"
          ],
          "name": "stdout"
        },
        {
          "output_type": "execute_result",
          "data": {
            "text/plain": [
              "{'icp2.txt': b'The University of South Carolina reports that more than 1,000 students currently have the virus.\\r\\nThe C.D.C. tells health officials to be ready to distribute a vaccine by November, raising concerns over politicized timing.\\r\\nIn Iowa, college students staged a sickout, and a football opener won\\xe2\\x80\\x99t have fans after all.\\r\\nVirus fallout from the Sturgis motorcycle rally: A death in Minnesota, cases in South Dakota and more.\\r\\nNew studies show inexpensive steroid drugs can help critically sick people survive Covid-19.\\r\\nSilvio Berlusconi, Italy\\xe2\\x80\\x99s former prime minister, tests positive.\\r\\nA judge orders the University of California to stop considering SAT or ACT scores because of the pandemic.'}"
            ]
          },
          "metadata": {
            "tags": []
          },
          "execution_count": 124
        }
      ]
    },
    {
      "cell_type": "markdown",
      "metadata": {
        "id": "jOkpBNVmBDKX",
        "colab_type": "text"
      },
      "source": [
        "**Read the text file and splitted it into a list of words**"
      ]
    },
    {
      "cell_type": "code",
      "metadata": {
        "id": "HdvV9r2u8iR3",
        "colab_type": "code",
        "colab": {}
      },
      "source": [
        "words=[]\n",
        "with open('icp2.txt','r') as f:\n",
        "    for line in f:\n",
        "        for word in line.split():\n",
        "           words.append(word)"
      ],
      "execution_count": null,
      "outputs": []
    },
    {
      "cell_type": "code",
      "metadata": {
        "id": "DJx62LNOBRCa",
        "colab_type": "code",
        "colab": {
          "base_uri": "https://localhost:8080/",
          "height": 1000
        },
        "outputId": "bbd8c86a-a71f-4ced-efe2-3694a2117c29"
      },
      "source": [
        "words"
      ],
      "execution_count": null,
      "outputs": [
        {
          "output_type": "execute_result",
          "data": {
            "text/plain": [
              "['The',\n",
              " 'University',\n",
              " 'of',\n",
              " 'South',\n",
              " 'Carolina',\n",
              " 'reports',\n",
              " 'that',\n",
              " 'more',\n",
              " 'than',\n",
              " '1,000',\n",
              " 'students',\n",
              " 'currently',\n",
              " 'have',\n",
              " 'the',\n",
              " 'virus.',\n",
              " 'The',\n",
              " 'C.D.C.',\n",
              " 'tells',\n",
              " 'health',\n",
              " 'officials',\n",
              " 'to',\n",
              " 'be',\n",
              " 'ready',\n",
              " 'to',\n",
              " 'distribute',\n",
              " 'a',\n",
              " 'vaccine',\n",
              " 'by',\n",
              " 'November,',\n",
              " 'raising',\n",
              " 'concerns',\n",
              " 'over',\n",
              " 'politicized',\n",
              " 'timing.',\n",
              " 'In',\n",
              " 'Iowa,',\n",
              " 'college',\n",
              " 'students',\n",
              " 'staged',\n",
              " 'a',\n",
              " 'sickout,',\n",
              " 'and',\n",
              " 'a',\n",
              " 'football',\n",
              " 'opener',\n",
              " 'won’t',\n",
              " 'have',\n",
              " 'fans',\n",
              " 'after',\n",
              " 'all.',\n",
              " 'Virus',\n",
              " 'fallout',\n",
              " 'from',\n",
              " 'the',\n",
              " 'Sturgis',\n",
              " 'motorcycle',\n",
              " 'rally:',\n",
              " 'A',\n",
              " 'death',\n",
              " 'in',\n",
              " 'Minnesota,',\n",
              " 'cases',\n",
              " 'in',\n",
              " 'South',\n",
              " 'Dakota',\n",
              " 'and',\n",
              " 'more.',\n",
              " 'New',\n",
              " 'studies',\n",
              " 'show',\n",
              " 'inexpensive',\n",
              " 'steroid',\n",
              " 'drugs',\n",
              " 'can',\n",
              " 'help',\n",
              " 'critically',\n",
              " 'sick',\n",
              " 'people',\n",
              " 'survive',\n",
              " 'Covid-19.',\n",
              " 'Silvio',\n",
              " 'Berlusconi,',\n",
              " 'Italy’s',\n",
              " 'former',\n",
              " 'prime',\n",
              " 'minister,',\n",
              " 'tests',\n",
              " 'positive.',\n",
              " 'A',\n",
              " 'judge',\n",
              " 'orders',\n",
              " 'the',\n",
              " 'University',\n",
              " 'of',\n",
              " 'California',\n",
              " 'to',\n",
              " 'stop',\n",
              " 'considering',\n",
              " 'SAT',\n",
              " 'or',\n",
              " 'ACT',\n",
              " 'scores',\n",
              " 'because',\n",
              " 'of',\n",
              " 'the',\n",
              " 'pandemic.']"
            ]
          },
          "metadata": {
            "tags": []
          },
          "execution_count": 129
        }
      ]
    },
    {
      "cell_type": "markdown",
      "metadata": {
        "id": "SIelYlzwBfQ7",
        "colab_type": "text"
      },
      "source": [
        "**Converted the list of words into a data frame**"
      ]
    },
    {
      "cell_type": "code",
      "metadata": {
        "id": "pLwVbFAB8nTv",
        "colab_type": "code",
        "colab": {
          "base_uri": "https://localhost:8080/",
          "height": 459
        },
        "outputId": "9dacf964-0bd2-4634-8782-d244a26a0b3d"
      },
      "source": [
        "df=spark.createDataFrame(words,StringType())\n",
        "df.show()"
      ],
      "execution_count": null,
      "outputs": [
        {
          "output_type": "stream",
          "text": [
            "+----------+\n",
            "|     value|\n",
            "+----------+\n",
            "|       The|\n",
            "|University|\n",
            "|        of|\n",
            "|     South|\n",
            "|  Carolina|\n",
            "|   reports|\n",
            "|      that|\n",
            "|      more|\n",
            "|      than|\n",
            "|     1,000|\n",
            "|  students|\n",
            "| currently|\n",
            "|      have|\n",
            "|       the|\n",
            "|    virus.|\n",
            "|       The|\n",
            "|    C.D.C.|\n",
            "|     tells|\n",
            "|    health|\n",
            "| officials|\n",
            "+----------+\n",
            "only showing top 20 rows\n",
            "\n"
          ],
          "name": "stdout"
        }
      ]
    },
    {
      "cell_type": "markdown",
      "metadata": {
        "id": "I4aPCevFBqof",
        "colab_type": "text"
      },
      "source": [
        "**Extracted the first letter of the word using 'substring' and converting lower cases into upper cases using the function 'upper'**"
      ]
    },
    {
      "cell_type": "code",
      "metadata": {
        "id": "8nGgvQ8r8qSk",
        "colab_type": "code",
        "colab": {
          "base_uri": "https://localhost:8080/",
          "height": 459
        },
        "outputId": "bde55c06-2fb9-449e-ac03-a8c200e7a130"
      },
      "source": [
        "from pyspark.sql.functions import substring\n",
        "from pyspark.sql.functions import upper\n",
        "df = df.withColumn(\"First_Alphabet\", upper(df.value.substr(1,1)))\n",
        "df.show()"
      ],
      "execution_count": null,
      "outputs": [
        {
          "output_type": "stream",
          "text": [
            "+----------+--------------+\n",
            "|     value|First_Alphabet|\n",
            "+----------+--------------+\n",
            "|       The|             T|\n",
            "|University|             U|\n",
            "|        of|             O|\n",
            "|     South|             S|\n",
            "|  Carolina|             C|\n",
            "|   reports|             R|\n",
            "|      that|             T|\n",
            "|      more|             M|\n",
            "|      than|             T|\n",
            "|     1,000|             1|\n",
            "|  students|             S|\n",
            "| currently|             C|\n",
            "|      have|             H|\n",
            "|       the|             T|\n",
            "|    virus.|             V|\n",
            "|       The|             T|\n",
            "|    C.D.C.|             C|\n",
            "|     tells|             T|\n",
            "|    health|             H|\n",
            "| officials|             O|\n",
            "+----------+--------------+\n",
            "only showing top 20 rows\n",
            "\n"
          ],
          "name": "stdout"
        }
      ]
    },
    {
      "cell_type": "markdown",
      "metadata": {
        "id": "D-jYtUT3CPGT",
        "colab_type": "text"
      },
      "source": [
        "**The words are collected and aggregated using the 'collect_list' function and are grouped by the first alphabets.**"
      ]
    },
    {
      "cell_type": "code",
      "metadata": {
        "id": "00ELZo4P81EE",
        "colab_type": "code",
        "colab": {
          "base_uri": "https://localhost:8080/",
          "height": 425
        },
        "outputId": "9909d698-12b8-4d82-8d6e-4ff6838c6641"
      },
      "source": [
        "from pyspark.sql.functions import collect_list\n",
        "grouped_df=df.groupby('First_Alphabet').agg(collect_list('value').alias(\"Words\"))\n",
        "grouped_df.show(truncate=False)"
      ],
      "execution_count": null,
      "outputs": [
        {
          "output_type": "stream",
          "text": [
            "+--------------+-------------------------------------------------------------------------------------------------------------------------------+\n",
            "|First_Alphabet|Words                                                                                                                          |\n",
            "+--------------+-------------------------------------------------------------------------------------------------------------------------------+\n",
            "|F             |[football, fans, fallout, from, former]                                                                                        |\n",
            "|T             |[The, that, than, the, The, tells, to, to, timing., the, tests, the, to, the]                                                  |\n",
            "|B             |[be, by, Berlusconi,, because]                                                                                                 |\n",
            "|M             |[more, motorcycle, Minnesota,, more., minister,]                                                                               |\n",
            "|U             |[University, University]                                                                                                       |\n",
            "|V             |[virus., vaccine, Virus]                                                                                                       |\n",
            "|O             |[of, officials, over, opener, orders, of, or, of]                                                                              |\n",
            "|D             |[distribute, death, Dakota, drugs]                                                                                             |\n",
            "|C             |[Carolina, currently, C.D.C., concerns, college, cases, can, critically, Covid-19., California, considering]                   |\n",
            "|J             |[judge]                                                                                                                        |\n",
            "|A             |[a, a, and, a, after, all., A, and, A, ACT]                                                                                    |\n",
            "|N             |[November,, New]                                                                                                               |\n",
            "|W             |[won’t]                                                                                                                        |\n",
            "|S             |[South, students, students, staged, sickout,, Sturgis, South, studies, show, steroid, sick, survive, Silvio, stop, SAT, scores]|\n",
            "|R             |[reports, ready, raising, rally:]                                                                                              |\n",
            "|1             |[1,000]                                                                                                                        |\n",
            "|I             |[In, Iowa,, in, in, inexpensive, Italy’s]                                                                                      |\n",
            "|P             |[politicized, people, prime, positive., pandemic.]                                                                             |\n",
            "|H             |[have, health, have, help]                                                                                                     |\n",
            "+--------------+-------------------------------------------------------------------------------------------------------------------------------+\n",
            "\n"
          ],
          "name": "stdout"
        }
      ]
    },
    {
      "cell_type": "markdown",
      "metadata": {
        "id": "oEeFZeiTCtkl",
        "colab_type": "text"
      },
      "source": [
        "There are 19 first characters (18 alphabets and 1 number) with the character S having the highest number of word count (n=16). \n"
      ]
    }
  ]
}